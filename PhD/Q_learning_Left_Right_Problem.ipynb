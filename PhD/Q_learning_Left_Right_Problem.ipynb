{
 "cells": [
  {
   "cell_type": "markdown",
   "metadata": {},
   "source": [
    "## Introduction:\n",
    "\n",
    "This notebook is devoted to implement Q learning algorithm on Left_Right problem .. a case study in Batch Learning paper (Page 14) .. \n",
    "\n",
    "Paper Link ==> http://www.jmlr.org/papers/v6/ernst05a.html\n",
    "\n",
    "Guided by this tutorial ==> http://mnemstudio.org/path-finding-q-learning-tutorial.htm\n",
    "\n",
    "## Experimental Setup:\n",
    "\n",
    "num of simulations = 100,000\n",
    "\n",
    "s = rand(0, 10)     selected at random \n",
    "\n",
    "a = [-2, 2] ==> -2: left, 2: right\n",
    "\n",
    "r = [100, 0, 50] ==> 0: inside the interval, 50: left, 100: right\n",
    "\n",
    "num of episods = 300 "
   ]
  },
  {
   "cell_type": "code",
   "execution_count": 64,
   "metadata": {},
   "outputs": [],
   "source": [
    "import numpy as np \n",
    "import matplotlib.pyplot as plt\n",
    "import pandas as pd\n",
    "%matplotlib inline"
   ]
  },
  {
   "cell_type": "markdown",
   "metadata": {},
   "source": [
    "## 1. Variables Decleration: \n",
    "\n",
    "__Episods:\n",
    "\n",
    "We'll call each exploration an episode.  \n",
    "Each episode consists of the agent moving from the initial state to the goal state.  \n",
    "Each time the agent arrives at the goal state, the program goes to the next episode.\n",
    "hence, the episod is treated as if it's the number of runs! (Each episode is equivalent to one training session)\n"
   ]
  },
  {
   "cell_type": "code",
   "execution_count": 69,
   "metadata": {},
   "outputs": [],
   "source": [
    "## num episods\n",
    "num_episod = 300\n",
    "\n",
    "# ## num_experiments\n",
    "# num_exp = 100000\n",
    "\n",
    "gamma = 0.9 \n",
    "alpha = 0.3\n",
    "\n",
    "## input Tuple\n",
    "state = np.random.randint(0, 0 + 11 , size=10) # create array from 1 to 10 randomly \n",
    "s_next = np.random.randint(0, 0 + 11 , size=10) # create array from 1 to 10 randomly \n",
    "action = np.random.choice([0, 1], state.shape[0]) # to be able to access Q indices .. left = 0, right = 1 instead of -2, 2\n",
    "\n",
    "reward = [np.random.choice([50], state.shape[0]), np.random.choice([100], state.shape[0])]  # reward is a matrix\n",
    "reward = np.transpose(reward)\n",
    "\n",
    "## Q_table\n",
    "Q = np.zeros(np.shape(reward))\n"
   ]
  },
  {
   "cell_type": "markdown",
   "metadata": {},
   "source": [
    "## 2. Basic Q Model:"
   ]
  },
  {
   "cell_type": "code",
   "execution_count": 70,
   "metadata": {},
   "outputs": [
    {
     "name": "stdout",
     "output_type": "stream",
     "text": [
      "[[  50.    0.]\n",
      " [   0.    0.]\n",
      " [   0.    0.]\n",
      " [  50.    0.]\n",
      " [   0.  100.]\n",
      " [   0.    0.]\n",
      " [  50.    0.]\n",
      " [   0.    0.]\n",
      " [   0.    0.]\n",
      " [   0.    0.]]\n"
     ]
    }
   ],
   "source": [
    "for i in range(num_episod):\n",
    "    currenct_state = np.random.choice(state) #select random state \n",
    "    if currenct_state == 10:\n",
    "        break\n",
    "    else:\n",
    "        current_action = np.random.choice(action)\n",
    "        next_state = np.random.choice(s_next) #consider moving to the next state\n",
    "\n",
    "        Q[currenct_state, current_action] = reward[currenct_state, current_action] + gamma*np.max(Q[next_state, :])\n",
    "        currenct_state = next_state\n",
    "\n",
    "print Q"
   ]
  },
  {
   "cell_type": "markdown",
   "metadata": {},
   "source": [
    "## Avg. Q and plotting it: \n",
    "\n",
    "To be able to compare the performance in every set of episods .. \n",
    "let's calculate the mean over the total of 300 episods !"
   ]
  },
  {
   "cell_type": "code",
   "execution_count": 71,
   "metadata": {},
   "outputs": [
    {
     "data": {
      "text/plain": [
       "12.5"
      ]
     },
     "execution_count": 71,
     "metadata": {},
     "output_type": "execute_result"
    }
   ],
   "source": [
    "np.mean(Q)"
   ]
  },
  {
   "cell_type": "markdown",
   "metadata": {},
   "source": [
    "Let's plot the Q value over each state and its corresponding action .. \n",
    "\n",
    "every color represents different possible action "
   ]
  },
  {
   "cell_type": "code",
   "execution_count": 72,
   "metadata": {},
   "outputs": [
    {
     "data": {
      "text/plain": [
       "Text(0,0.5,u'Q Value')"
      ]
     },
     "execution_count": 72,
     "metadata": {},
     "output_type": "execute_result"
    },
    {
     "data": {
      "image/png": "[encoded data removed]",
      "text/plain": [
       "<matplotlib.figure.Figure at 0x7ff6100bacd0>"
      ]
     },
     "metadata": {},
     "output_type": "display_data"
    }
   ],
   "source": [
    "plt.plot(Q)\n",
    "plt.xlabel(\"State Number\")\n",
    "plt.ylabel(\"Q Value\")"
   ]
  },
  {
   "cell_type": "markdown",
   "metadata": {},
   "source": [
    "## Comment:\n",
    "the above graph is different from those plotted in the batch paper .. cause they represent the result of applying tree pruning algorithm called (Pruned CART Tree) ... read more about ==> https://www.quora.com/Decision-Trees-How-do-you-prune-a-CART"
   ]
  },
  {
   "cell_type": "code",
   "execution_count": null,
   "metadata": {},
   "outputs": [],
   "source": []
  }
 ],
 "metadata": {
  "kernelspec": {
   "display_name": "Python 2",
   "language": "python",
   "name": "python2"
  },
  "language_info": {
   "codemirror_mode": {
    "name": "ipython",
    "version": 2
   },
   "file_extension": ".py",
   "mimetype": "text/x-python",
   "name": "python",
   "nbconvert_exporter": "python",
   "pygments_lexer": "ipython2",
   "version": "2.7.12"
  }
 },
 "nbformat": 4,
 "nbformat_minor": 2
}
