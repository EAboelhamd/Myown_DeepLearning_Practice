{
 "cells": [
  {
   "cell_type": "markdown",
   "metadata": {},
   "source": [
    "## Introduction:\n",
    "\n",
    "This notebook is devoted to implement Q learning algorithm on Left_Right problem .. a case study in Batch Learning paper (Page 14) .. \n",
    "\n",
    "Paper Link ==> http://www.jmlr.org/papers/v6/ernst05a.html\n",
    "\n",
    "Guided by this tutorial ==> http://mnemstudio.org/path-finding-q-learning-tutorial.htm\n",
    "\n",
    "and also this one ==> https://medium.com/emergent-future/simple-reinforcement-learning-with-tensorflow-part-0-q-learning-with-tables-and-neural-networks-d195264329d0\n",
    "\n",
    "\n",
    "## Experimental Setup:\n",
    "\n",
    "num of simulations = 100,000\n",
    "\n",
    "s = rand(0, 10)     selected at random \n",
    "\n",
    "a = [-2, 2] ==> -2: left, 2: right\n",
    "\n",
    "r = [100, 0, 50] ==> 0: inside the interval, 50: left, 100: right\n",
    "\n",
    "num of episods = 300 "
   ]
  },
  {
   "cell_type": "code",
   "execution_count": 90,
   "metadata": {},
   "outputs": [],
   "source": [
    "import numpy as np \n",
    "import matplotlib.pyplot as plt\n",
    "from sklearn import linear_model\n",
    "import tensorflow as tf\n",
    "import pandas as pd\n",
    "%matplotlib inline"
   ]
  },
  {
   "cell_type": "markdown",
   "metadata": {},
   "source": [
    "## Variables Decleration: \n",
    "\n",
    "__Episods:\n",
    "\n",
    "We'll call each exploration an episode.  \n",
    "Each episode consists of the agent moving from the initial state to the goal state.  \n",
    "Each time the agent arrives at the goal state, the program goes to the next episode.\n",
    "hence, the episod is treated as if it's the number of runs! (Each episode is equivalent to one training session)\n"
   ]
  },
  {
   "cell_type": "code",
   "execution_count": 93,
   "metadata": {},
   "outputs": [
    {
     "data": {
      "text/plain": [
       "array([[0, 0],\n",
       "       [0, 0],\n",
       "       [0, 0],\n",
       "       [0, 0],\n",
       "       [0, 0],\n",
       "       [0, 0],\n",
       "       [0, 0],\n",
       "       [0, 0],\n",
       "       [0, 0],\n",
       "       [0, 0]])"
      ]
     },
     "execution_count": 93,
     "metadata": {},
     "output_type": "execute_result"
    }
   ],
   "source": [
    "## num episods\n",
    "num_episod = 300\n",
    "\n",
    "gamma = 0.9 \n",
    "alpha = 0.3\n",
    "\n",
    "## input Tuple\n",
    "state = np.random.randint(0, 0 + 11 , size=10) # create array from 1 to 10 randomly \n",
    "s_next = np.random.randint(0, 0 + 11 , size=10) # create array from 1 to 10 randomly \n",
    "action = np.random.choice([0, 1], state.shape[0]) # to be able to access Q indices .. left = 0, right = 1 instead of -2, 2\n",
    "\n",
    "Curr_state_current_action = np.column_stack((state, action))\n",
    "\n",
    "reward = [np.random.choice([50], state.shape[0]), np.random.choice([100], state.shape[0])]  # reward is a matrix\n",
    "reward = np.transpose(reward)\n",
    "## best action .. \n",
    "best_action = []\n",
    "\n",
    "## Q_table\n",
    "Q = np.zeros_like(reward)\n",
    "Q"
   ]
  },
  {
   "cell_type": "markdown",
   "metadata": {},
   "source": [
    "## ___________________ 1. Basic Q Model  ___________________"
   ]
  },
  {
   "cell_type": "code",
   "execution_count": 94,
   "metadata": {
    "scrolled": true
   },
   "outputs": [
    {
     "name": "stdout",
     "output_type": "stream",
     "text": [
      "[[  0   0]\n",
      " [ 95   0]\n",
      " [  0   0]\n",
      " [  0   0]\n",
      " [ 50 100]\n",
      " [  0   0]\n",
      " [  0   0]\n",
      " [  0   0]\n",
      " [ 95   0]\n",
      " [  0   0]]\n"
     ]
    }
   ],
   "source": [
    "for i in range(num_episod):\n",
    "    current_state = np.random.choice(state) #select random state \n",
    "    if current_state == 10:\n",
    "        break\n",
    "    else:\n",
    "        current_action = np.random.choice(action)\n",
    "        next_state = np.random.choice(s_next) #consider moving to the next state\n",
    "        Q[current_state, current_action] = reward[current_state, current_action] + gamma*np.max(Q[next_state, :])\n",
    "        current_state = next_state\n",
    "    best_action.append(action)  ## best actions\n",
    "\n",
    "print Q"
   ]
  },
  {
   "cell_type": "code",
   "execution_count": 95,
   "metadata": {},
   "outputs": [
    {
     "data": {
      "text/plain": [
       "Text(0,0.5,u'action')"
      ]
     },
     "execution_count": 95,
     "metadata": {},
     "output_type": "execute_result"
    },
    {
     "data": {
      "image/png": "[encoded data removed]",
      "text/plain": [
       "<matplotlib.figure.Figure at 0x7f362bc96590>"
      ]
     },
     "metadata": {},
     "output_type": "display_data"
    }
   ],
   "source": [
    "plt.plot(best_action)\n",
    "plt.title('State vs Action')\n",
    "plt.xlabel('state')\n",
    "plt.ylabel('action')  #actions are either 0 (left) or 1 (right)"
   ]
  },
  {
   "cell_type": "code",
   "execution_count": 96,
   "metadata": {},
   "outputs": [
    {
     "data": {
      "text/plain": [
       "array([[  0,   0],\n",
       "       [ 95,   0],\n",
       "       [  0,   0],\n",
       "       [  0,   0],\n",
       "       [ 50, 100],\n",
       "       [  0,   0],\n",
       "       [  0,   0],\n",
       "       [  0,   0],\n",
       "       [ 95,   0],\n",
       "       [  0,   0]])"
      ]
     },
     "execution_count": 96,
     "metadata": {},
     "output_type": "execute_result"
    }
   ],
   "source": [
    "Q"
   ]
  },
  {
   "cell_type": "markdown",
   "metadata": {},
   "source": [
    "## Avg. Q and plotting it: \n",
    "\n",
    "To be able to compare the performance in every set of episods .. \n",
    "let's calculate the mean over the total of 300 episods !"
   ]
  },
  {
   "cell_type": "code",
   "execution_count": 97,
   "metadata": {},
   "outputs": [
    {
     "data": {
      "text/plain": [
       "17.0"
      ]
     },
     "execution_count": 97,
     "metadata": {},
     "output_type": "execute_result"
    }
   ],
   "source": [
    "np.mean(Q)"
   ]
  },
  {
   "cell_type": "markdown",
   "metadata": {},
   "source": [
    "Let's plot the Q value over each state and its corresponding action .. \n",
    "\n",
    "every color represents different possible action "
   ]
  },
  {
   "cell_type": "code",
   "execution_count": 98,
   "metadata": {},
   "outputs": [
    {
     "data": {
      "text/plain": [
       "<matplotlib.legend.Legend at 0x7f362bb7d110>"
      ]
     },
     "execution_count": 98,
     "metadata": {},
     "output_type": "execute_result"
    },
    {
     "data": {
      "image/png": "[encoded data removed]",
      "text/plain": [
       "<matplotlib.figure.Figure at 0x7f362bbe87d0>"
      ]
     },
     "metadata": {},
     "output_type": "display_data"
    }
   ],
   "source": [
    "plt.plot(Q)\n",
    "plt.title('Q value at each state in both actions')\n",
    "plt.xlabel(\"State Number\")\n",
    "plt.ylabel(\"Q Value\")\n",
    "plt.legend('LR')"
   ]
  },
  {
   "cell_type": "markdown",
   "metadata": {},
   "source": [
    "## Comment:\n",
    "the figure above demonestares the best action to be taken at each state and the corresponding Q value .. \n",
    "\n",
    "i.e. at state 0 going left or right will give u the same long term reward of zero .. \n",
    "starting from state 1 .. it's better to go left to get a reward of 100 and going right will give you a reward of zero .. \n",
    "\n",
    "at state # 8, it's better to go left to obtain higher reward of 100 .. instead of only zero by going right .. "
   ]
  }
 ],
 "metadata": {
  "kernelspec": {
   "display_name": "Python 2",
   "language": "python",
   "name": "python2"
  },
  "language_info": {
   "codemirror_mode": {
    "name": "ipython",
    "version": 2
   },
   "file_extension": ".py",
   "mimetype": "text/x-python",
   "name": "python",
   "nbconvert_exporter": "python",
   "pygments_lexer": "ipython2",
   "version": "2.7.12"
  }
 },
 "nbformat": 4,
 "nbformat_minor": 2
}
