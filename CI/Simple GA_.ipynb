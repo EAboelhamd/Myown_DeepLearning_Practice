{
 "cells": [
  {
   "cell_type": "markdown",
   "metadata": {},
   "source": [
    "## Introduction:\n",
    "\n",
    "This is Lab_1 introduces (Simple GA) .. \n",
    "\n",
    "### GA main steps:\n",
    "\n",
    "1. Initialization population\n",
    "2. Fitness Evaluation\n",
    "3. Selection to new poulation (i.e. Roulette Wheel)\n",
    "\n",
    "==> Parents \n",
    "\n",
    "4. CrossOver (Recombination)\n",
    "5. Mutation\n",
    "\n",
    "==> Offsprings\n",
    "\n",
    "1. Elitism \n",
    "\n",
    "\n",
    "\n",
    "You will need numpy library to be able to proceed with this assignment .. \n",
    "\n",
    "You can download it from ==> https://pypi.python.org/pypi/numpy"
   ]
  },
  {
   "cell_type": "code",
   "execution_count": 1,
   "metadata": {},
   "outputs": [],
   "source": [
    "import numpy as np"
   ]
  },
  {
   "cell_type": "markdown",
   "metadata": {},
   "source": [
    "### 1. Initialization:\n",
    "\n",
    "Random sampling .. "
   ]
  },
  {
   "cell_type": "code",
   "execution_count": 2,
   "metadata": {},
   "outputs": [],
   "source": [
    "def individual(length):\n",
    "    return list(np.random.choice([0, 1], length)) "
   ]
  },
  {
   "cell_type": "code",
   "execution_count": 3,
   "metadata": {},
   "outputs": [
    {
     "data": {
      "text/plain": [
       "[1, 1, 1, 1, 0]"
      ]
     },
     "execution_count": 3,
     "metadata": {},
     "output_type": "execute_result"
    }
   ],
   "source": [
    "individual(5)"
   ]
  },
  {
   "cell_type": "code",
   "execution_count": 4,
   "metadata": {},
   "outputs": [],
   "source": [
    "def population(pop_size, ind_len):\n",
    "    return [individual(ind_len) for x in xrange(pop_size)]"
   ]
  },
  {
   "cell_type": "code",
   "execution_count": 5,
   "metadata": {},
   "outputs": [
    {
     "data": {
      "text/plain": [
       "[[0, 1, 1, 0, 1],\n",
       " [1, 1, 0, 1, 1],\n",
       " [1, 0, 1, 0, 0],\n",
       " [1, 1, 0, 1, 1],\n",
       " [0, 1, 1, 1, 1],\n",
       " [0, 0, 0, 1, 1],\n",
       " [0, 0, 0, 0, 0]]"
      ]
     },
     "execution_count": 5,
     "metadata": {},
     "output_type": "execute_result"
    }
   ],
   "source": [
    "population(7, 5)"
   ]
  },
  {
   "cell_type": "markdown",
   "metadata": {},
   "source": [
    "### 2. Fitness Evaluation: \n",
    "Fitness is a function of the distance between the sum of an individuals and the target number (i.e. x)"
   ]
  },
  {
   "cell_type": "code",
   "execution_count": 45,
   "metadata": {},
   "outputs": [],
   "source": [
    "def pop_fitness(pop):\n",
    "    \n",
    "    print pop \n",
    "    \n",
    "    count = np.zeros([len(pop), 1])\n",
    "    \n",
    "    for i in xrange(len(pop)):\n",
    "        count[i] = np.count_nonzero(pop[i])\n",
    "    return pop[i], count "
   ]
  },
  {
   "cell_type": "code",
   "execution_count": 46,
   "metadata": {},
   "outputs": [
    {
     "name": "stdout",
     "output_type": "stream",
     "text": [
      "[[0, 1, 1, 0, 0], [1, 0, 1, 0, 0], [0, 0, 1, 1, 0], [0, 0, 0, 1, 1], [0, 1, 1, 0, 1], [0, 0, 0, 1, 1], [0, 0, 1, 1, 1]]\n"
     ]
    },
    {
     "data": {
      "text/plain": [
       "([0, 0, 1, 1, 1], array([[ 2.],\n",
       "        [ 2.],\n",
       "        [ 2.],\n",
       "        [ 2.],\n",
       "        [ 3.],\n",
       "        [ 2.],\n",
       "        [ 3.]]))"
      ]
     },
     "execution_count": 46,
     "metadata": {},
     "output_type": "execute_result"
    }
   ],
   "source": [
    "pop = population(7, 5)\n",
    "pop_fitness(pop)"
   ]
  },
  {
   "cell_type": "markdown",
   "metadata": {},
   "source": [
    "## GA algorithm:\n",
    "\n",
    "-[Start] Generate random population of n chromosomes (suitable solutions for the problem)\n",
    "\n",
    "\n",
    "- [Fitness] Evaluate the fitness f(x) of each chromosome x in the population\n",
    "\n",
    "\n",
    "- [New population] Create a new population by repeating following steps until the new population is complete\n",
    "\n",
    "\n",
    "    - [Selection] Select two parent chromosomes from a population according to their\n",
    "            fitness (the better fitness, the bigger chance to be selected)\n",
    "\n",
    "\n",
    "    - [Crossover] With a crossover probability cross over the parents to form new\n",
    "            offspring (children). If no crossover was performed, offspring is the exact copy of parents. (i.e. 0.9)\n",
    "\n",
    "\n",
    "    - [Mutation] With a mutation probability mutate new offspring at each locus (position in chromosome). (i.e. 0.1)\n",
    "\n",
    "\n",
    "    - [Accepting] Place new offspring in the new population\n",
    "\n",
    "\n",
    "- [Replace] Use new generated population for a further run of the algorithm\n",
    "\n",
    "\n",
    "- [Test] If the end condition is satisfied, stop, and return the best solution in current population\n",
    "\n",
    "\n",
    "- [Loop] Go to step 2"
   ]
  }
 ],
 "metadata": {
  "kernelspec": {
   "display_name": "Python 2",
   "language": "python",
   "name": "python2"
  },
  "language_info": {
   "codemirror_mode": {
    "name": "ipython",
    "version": 2
   },
   "file_extension": ".py",
   "mimetype": "text/x-python",
   "name": "python",
   "nbconvert_exporter": "python",
   "pygments_lexer": "ipython2",
   "version": "2.7.12"
  }
 },
 "nbformat": 4,
 "nbformat_minor": 2
}
