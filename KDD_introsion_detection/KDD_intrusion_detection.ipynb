{
 "cells": [
  {
   "cell_type": "markdown",
   "metadata": {},
   "source": [
    "## Introduction:\n",
    "\n",
    "\n",
    "This notebook is an implementation of an introsion detection in KDD dataset .. this is a classifiction problem (bad/ good intrusion) that suffers from imbalance classes where the distribtion of data in the training and testing sets are different (This makes the task more realistic) .. \n",
    "\n",
    "This is due to introducing new types of intrusions in the test set .. \n",
    "\n",
    "Dataset link ==> http://kdd.ics.uci.edu/databases/kddcup99/kddcup99.html\n",
    "\n",
    "\n",
    "The raw training data was about four gigabytes of compressed binary TCP dump data from seven weeks of network traffic.  \n",
    "\n",
    "\n",
    "The dataset consits of 42 variables and about 5 million records .. with connections labeled as either normal, or as an attack , with exactly one specific attack type.  Each connection record consists of about 100 bytes. \n",
    "\n",
    "Attacks fall into four main categories:\n",
    "\n",
    "- DOS: denial-of-service, e.g. syn flood;\n",
    "- R2L: unauthorized access from a remote machine, e.g. guessing password;\n",
    "- U2R:  unauthorized access to local superuser (root) privileges, e.g., various ``buffer overflow'' attacks;\n",
    "- probing: surveillance and other probing, e.g., port scanning.\n",
    "\n",
    "\n",
    "Some people work on deriving features from the existing ones .. i.e. \n",
    "\n",
    "Stolfo et al.  defined higher-level features that help in distinguishing normal connections from attacks.  There are several categories of derived features. The ``same host'' features examine only the connections in the past two seconds that have the same destination host as the current connection, and calculate statistics related to protocol behavior, service, etc. The similar ``same service'' features examine only the connections in the past two seconds that have the same service as the current connection. \"Same host\" and \"same service\" features are together called  time-based traffic features of the connection records. \n",
    "\n",
    "Stolfo et al. used domain knowledge to add features that look for suspicious behavior in the data portions, such as the number of failed login attempts.  These features are called ``content'' features.\n",
    "\n",
    "\n",
    "a tutorial for some deep learning solutions for this problem is here ==> \n",
    "\n",
    "https://www.analyticsvidhya.com/blog/2016/10/investigation-on-handling-structured-imbalanced-datasets-with-deep-learning/"
   ]
  },
  {
   "cell_type": "code",
   "execution_count": 23,
   "metadata": {
    "collapsed": true
   },
   "outputs": [],
   "source": [
    "## data manipulation\n",
    "import numpy as np\n",
    "import pandas as pd\n",
    "\n",
    "## reading the data \n",
    "import json\n",
    "import zipfile\n",
    "import csv\n",
    "\n",
    "## warnings\n",
    "import warnings\n",
    "warnings.filterwarnings(\"ignore\")\n",
    "\n",
    "## plotting .. \n",
    "import matplotlib.pyplot as plt\n",
    "import seaborn as sns\n",
    "%matplotlib inline"
   ]
  },
  {
   "cell_type": "code",
   "execution_count": 9,
   "metadata": {},
   "outputs": [],
   "source": [
    "df = pd.read_csv('kddcup.data.gz')"
   ]
  },
  {
   "cell_type": "code",
   "execution_count": 5,
   "metadata": {},
   "outputs": [
    {
     "data": {
      "text/html": [
       "<div>\n",
       "<table border=\"1\" class=\"dataframe\">\n",
       "  <thead>\n",
       "    <tr style=\"text-align: right;\">\n",
       "      <th></th>\n",
       "      <th>0</th>\n",
       "      <th>tcp</th>\n",
       "      <th>http</th>\n",
       "      <th>SF</th>\n",
       "      <th>215</th>\n",
       "      <th>45076</th>\n",
       "      <th>0.1</th>\n",
       "      <th>0.2</th>\n",
       "      <th>0.3</th>\n",
       "      <th>0.4</th>\n",
       "      <th>...</th>\n",
       "      <th>0.17</th>\n",
       "      <th>0.00.6</th>\n",
       "      <th>0.00.7</th>\n",
       "      <th>0.00.8</th>\n",
       "      <th>0.00.9</th>\n",
       "      <th>0.00.10</th>\n",
       "      <th>0.00.11</th>\n",
       "      <th>0.00.12</th>\n",
       "      <th>0.00.13</th>\n",
       "      <th>normal.</th>\n",
       "    </tr>\n",
       "  </thead>\n",
       "  <tbody>\n",
       "    <tr>\n",
       "      <th>0</th>\n",
       "      <td>0</td>\n",
       "      <td>tcp</td>\n",
       "      <td>http</td>\n",
       "      <td>SF</td>\n",
       "      <td>162</td>\n",
       "      <td>4528</td>\n",
       "      <td>0</td>\n",
       "      <td>0</td>\n",
       "      <td>0</td>\n",
       "      <td>0</td>\n",
       "      <td>...</td>\n",
       "      <td>1</td>\n",
       "      <td>1</td>\n",
       "      <td>0</td>\n",
       "      <td>1.00</td>\n",
       "      <td>0</td>\n",
       "      <td>0</td>\n",
       "      <td>0</td>\n",
       "      <td>0</td>\n",
       "      <td>0</td>\n",
       "      <td>normal.</td>\n",
       "    </tr>\n",
       "    <tr>\n",
       "      <th>1</th>\n",
       "      <td>0</td>\n",
       "      <td>tcp</td>\n",
       "      <td>http</td>\n",
       "      <td>SF</td>\n",
       "      <td>236</td>\n",
       "      <td>1228</td>\n",
       "      <td>0</td>\n",
       "      <td>0</td>\n",
       "      <td>0</td>\n",
       "      <td>0</td>\n",
       "      <td>...</td>\n",
       "      <td>2</td>\n",
       "      <td>1</td>\n",
       "      <td>0</td>\n",
       "      <td>0.50</td>\n",
       "      <td>0</td>\n",
       "      <td>0</td>\n",
       "      <td>0</td>\n",
       "      <td>0</td>\n",
       "      <td>0</td>\n",
       "      <td>normal.</td>\n",
       "    </tr>\n",
       "    <tr>\n",
       "      <th>2</th>\n",
       "      <td>0</td>\n",
       "      <td>tcp</td>\n",
       "      <td>http</td>\n",
       "      <td>SF</td>\n",
       "      <td>233</td>\n",
       "      <td>2032</td>\n",
       "      <td>0</td>\n",
       "      <td>0</td>\n",
       "      <td>0</td>\n",
       "      <td>0</td>\n",
       "      <td>...</td>\n",
       "      <td>3</td>\n",
       "      <td>1</td>\n",
       "      <td>0</td>\n",
       "      <td>0.33</td>\n",
       "      <td>0</td>\n",
       "      <td>0</td>\n",
       "      <td>0</td>\n",
       "      <td>0</td>\n",
       "      <td>0</td>\n",
       "      <td>normal.</td>\n",
       "    </tr>\n",
       "    <tr>\n",
       "      <th>3</th>\n",
       "      <td>0</td>\n",
       "      <td>tcp</td>\n",
       "      <td>http</td>\n",
       "      <td>SF</td>\n",
       "      <td>239</td>\n",
       "      <td>486</td>\n",
       "      <td>0</td>\n",
       "      <td>0</td>\n",
       "      <td>0</td>\n",
       "      <td>0</td>\n",
       "      <td>...</td>\n",
       "      <td>4</td>\n",
       "      <td>1</td>\n",
       "      <td>0</td>\n",
       "      <td>0.25</td>\n",
       "      <td>0</td>\n",
       "      <td>0</td>\n",
       "      <td>0</td>\n",
       "      <td>0</td>\n",
       "      <td>0</td>\n",
       "      <td>normal.</td>\n",
       "    </tr>\n",
       "    <tr>\n",
       "      <th>4</th>\n",
       "      <td>0</td>\n",
       "      <td>tcp</td>\n",
       "      <td>http</td>\n",
       "      <td>SF</td>\n",
       "      <td>238</td>\n",
       "      <td>1282</td>\n",
       "      <td>0</td>\n",
       "      <td>0</td>\n",
       "      <td>0</td>\n",
       "      <td>0</td>\n",
       "      <td>...</td>\n",
       "      <td>5</td>\n",
       "      <td>1</td>\n",
       "      <td>0</td>\n",
       "      <td>0.20</td>\n",
       "      <td>0</td>\n",
       "      <td>0</td>\n",
       "      <td>0</td>\n",
       "      <td>0</td>\n",
       "      <td>0</td>\n",
       "      <td>normal.</td>\n",
       "    </tr>\n",
       "  </tbody>\n",
       "</table>\n",
       "<p>5 rows × 42 columns</p>\n",
       "</div>"
      ],
      "text/plain": [
       "   0  tcp  http  SF  215  45076  0.1  0.2  0.3  0.4   ...     0.17  0.00.6  \\\n",
       "0  0  tcp  http  SF  162   4528    0    0    0    0   ...        1       1   \n",
       "1  0  tcp  http  SF  236   1228    0    0    0    0   ...        2       1   \n",
       "2  0  tcp  http  SF  233   2032    0    0    0    0   ...        3       1   \n",
       "3  0  tcp  http  SF  239    486    0    0    0    0   ...        4       1   \n",
       "4  0  tcp  http  SF  238   1282    0    0    0    0   ...        5       1   \n",
       "\n",
       "   0.00.7  0.00.8  0.00.9  0.00.10  0.00.11  0.00.12  0.00.13  normal.  \n",
       "0       0    1.00       0        0        0        0        0  normal.  \n",
       "1       0    0.50       0        0        0        0        0  normal.  \n",
       "2       0    0.33       0        0        0        0        0  normal.  \n",
       "3       0    0.25       0        0        0        0        0  normal.  \n",
       "4       0    0.20       0        0        0        0        0  normal.  \n",
       "\n",
       "[5 rows x 42 columns]"
      ]
     },
     "execution_count": 5,
     "metadata": {},
     "output_type": "execute_result"
    }
   ],
   "source": [
    "df.head()"
   ]
  },
  {
   "cell_type": "code",
   "execution_count": 6,
   "metadata": {},
   "outputs": [
    {
     "data": {
      "text/plain": [
       "(4898430, 42)"
      ]
     },
     "execution_count": 6,
     "metadata": {},
     "output_type": "execute_result"
    }
   ],
   "source": [
    "np.shape(df)"
   ]
  },
  {
   "cell_type": "code",
   "execution_count": 15,
   "metadata": {},
   "outputs": [
    {
     "data": {
      "text/plain": [
       "array(['normal.', 'buffer_overflow.', 'loadmodule.', 'perl.', 'neptune.',\n",
       "       'smurf.', 'guess_passwd.', 'pod.', 'teardrop.', 'portsweep.',\n",
       "       'ipsweep.', 'land.', 'ftp_write.', 'back.', 'imap.', 'satan.',\n",
       "       'phf.', 'nmap.', 'multihop.', 'warezmaster.', 'warezclient.',\n",
       "       'spy.', 'rootkit.'], dtype=object)"
      ]
     },
     "execution_count": 15,
     "metadata": {},
     "output_type": "execute_result"
    }
   ],
   "source": [
    "df['normal.'].unique()"
   ]
  },
  {
   "cell_type": "code",
   "execution_count": 17,
   "metadata": {},
   "outputs": [
    {
     "data": {
      "text/plain": [
       "(23,)"
      ]
     },
     "execution_count": 17,
     "metadata": {},
     "output_type": "execute_result"
    }
   ],
   "source": [
    "np.shape(df['normal.'].unique())"
   ]
  },
  {
   "cell_type": "markdown",
   "metadata": {},
   "source": [
    "about 23 attack types .. \n",
    "\n",
    "mapping them to the 4 categories of attacks as follows:\n",
    "\n",
    "    back dos\n",
    "    buffer_overflow u2r\n",
    "    ftp_write r2l\n",
    "    guess_passwd r2l\n",
    "    imap r2l\n",
    "    ipsweep probe\n",
    "    land dos\n",
    "    loadmodule u2r\n",
    "    multihop r2l\n",
    "    neptune dos\n",
    "    nmap probe\n",
    "    perl u2r\n",
    "    phf r2l\n",
    "    pod dos\n",
    "    portsweep probe\n",
    "    rootkit u2r\n",
    "    satan probe\n",
    "    smurf dos\n",
    "    spy r2l\n",
    "    teardrop dos\n",
    "    warezclient r2l\n",
    "    warezmaster r2l\n"
   ]
  },
  {
   "cell_type": "code",
   "execution_count": 21,
   "metadata": {},
   "outputs": [
    {
     "data": {
      "text/plain": [
       "{dtype('int64'): ['0',\n",
       "  '215',\n",
       "  '45076',\n",
       "  '0.1',\n",
       "  '0.2',\n",
       "  '0.3',\n",
       "  '0.4',\n",
       "  '0.5',\n",
       "  '1',\n",
       "  '0.6',\n",
       "  '0.7',\n",
       "  '0.8',\n",
       "  '0.9',\n",
       "  '0.10',\n",
       "  '0.11',\n",
       "  '0.12',\n",
       "  '0.13',\n",
       "  '0.14',\n",
       "  '0.15',\n",
       "  '1.1',\n",
       "  '1.2',\n",
       "  '0.16',\n",
       "  '0.17'],\n",
       " dtype('float64'): ['0.00',\n",
       "  '0.00.1',\n",
       "  '0.00.2',\n",
       "  '0.00.3',\n",
       "  '1.00',\n",
       "  '0.00.4',\n",
       "  '0.00.5',\n",
       "  '0.00.6',\n",
       "  '0.00.7',\n",
       "  '0.00.8',\n",
       "  '0.00.9',\n",
       "  '0.00.10',\n",
       "  '0.00.11',\n",
       "  '0.00.12',\n",
       "  '0.00.13'],\n",
       " dtype('O'): ['tcp', 'http', 'SF', 'normal.']}"
      ]
     },
     "execution_count": 21,
     "metadata": {},
     "output_type": "execute_result"
    }
   ],
   "source": [
    "df.columns.to_series().groupby(df.dtypes).groups"
   ]
  },
  {
   "cell_type": "markdown",
   "metadata": {},
   "source": [
    "## Comment:\n",
    "the columns names are not meaningful .. however, the majority of them are numeric integers .. some of them are floats and 4 variables are categoical variables (including the dependent variable -attack type-)"
   ]
  },
  {
   "cell_type": "code",
   "execution_count": 33,
   "metadata": {},
   "outputs": [
    {
     "data": {
      "text/plain": [
       "0          False\n",
       "tcp        False\n",
       "http       False\n",
       "SF         False\n",
       "215        False\n",
       "45076      False\n",
       "0.1        False\n",
       "0.2        False\n",
       "0.3        False\n",
       "0.4        False\n",
       "0.5        False\n",
       "1          False\n",
       "0.6        False\n",
       "0.7        False\n",
       "0.8        False\n",
       "0.9        False\n",
       "0.10       False\n",
       "0.11       False\n",
       "0.12       False\n",
       "0.13       False\n",
       "0.14       False\n",
       "0.15       False\n",
       "1.1        False\n",
       "1.2        False\n",
       "0.00       False\n",
       "0.00.1     False\n",
       "0.00.2     False\n",
       "0.00.3     False\n",
       "1.00       False\n",
       "0.00.4     False\n",
       "0.00.5     False\n",
       "0.16       False\n",
       "0.17       False\n",
       "0.00.6     False\n",
       "0.00.7     False\n",
       "0.00.8     False\n",
       "0.00.9     False\n",
       "0.00.10    False\n",
       "0.00.11    False\n",
       "0.00.12    False\n",
       "0.00.13    False\n",
       "normal.    False\n",
       "dtype: bool"
      ]
     },
     "execution_count": 33,
     "metadata": {},
     "output_type": "execute_result"
    }
   ],
   "source": [
    "df.isnull().any()"
   ]
  },
  {
   "cell_type": "markdown",
   "metadata": {},
   "source": [
    "None of the variables contain missing values ! :) "
   ]
  },
  {
   "cell_type": "code",
   "execution_count": 32,
   "metadata": {},
   "outputs": [
    {
     "data": {
      "text/plain": [
       "<matplotlib.axes._subplots.AxesSubplot at 0x7f1ef1a9c8d0>"
      ]
     },
     "execution_count": 32,
     "metadata": {},
     "output_type": "execute_result"
    },
    {
     "data": {
      "image/png": "[encoded data removed]",
      "text/plain": [
       "<matplotlib.figure.Figure at 0x7f1ef121f850>"
      ]
     },
     "metadata": {},
     "output_type": "display_data"
    }
   ],
   "source": [
    "plt.figure(figsize=(8, 4))\n",
    "sns.barplot(df['normal.'], df['normal.'].value_counts(), alpha = 0.8)  # I have to plot the distribution of each type "
   ]
  },
  {
   "cell_type": "code",
   "execution_count": null,
   "metadata": {
    "collapsed": true
   },
   "outputs": [],
   "source": []
  }
 ],
 "metadata": {
  "kernelspec": {
   "display_name": "Python 2",
   "language": "python",
   "name": "python2"
  },
  "language_info": {
   "codemirror_mode": {
    "name": "ipython",
    "version": 2
   },
   "file_extension": ".py",
   "mimetype": "text/x-python",
   "name": "python",
   "nbconvert_exporter": "python",
   "pygments_lexer": "ipython2",
   "version": "2.7.12"
  }
 },
 "nbformat": 4,
 "nbformat_minor": 2
}
